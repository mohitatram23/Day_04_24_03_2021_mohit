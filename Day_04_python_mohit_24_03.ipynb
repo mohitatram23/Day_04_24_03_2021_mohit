{
 "cells": [
  {
   "cell_type": "code",
   "execution_count": 3,
   "metadata": {},
   "outputs": [
    {
     "name": "stdout",
     "output_type": "stream",
     "text": [
      "mohit atram\n"
     ]
    }
   ],
   "source": [
    "# introduction to f string\n",
    "\n",
    "# f\"custom words{placeholder} {placeholder1}--------- say {n}\n",
    "\n",
    "# Note - place holder is nothing but the reference points of the variables that we have created.\n",
    "\n",
    "first = \"mohit\"\n",
    "\n",
    "last = \"atram\"\n",
    "\n",
    "sentence = f\"{first} {last}\" \n",
    "\n",
    "print(sentence)"
   ]
  },
  {
   "cell_type": "code",
   "execution_count": 4,
   "metadata": {},
   "outputs": [
    {
     "name": "stdout",
     "output_type": "stream",
     "text": [
      "my name is mohit atram\n"
     ]
    }
   ],
   "source": [
    "sentence = f\"my name is {first} {last}\"\n",
    "\n",
    "print(sentence)"
   ]
  },
  {
   "cell_type": "code",
   "execution_count": 6,
   "metadata": {},
   "outputs": [
    {
     "name": "stdout",
     "output_type": "stream",
     "text": [
      "bharti atram\n"
     ]
    }
   ],
   "source": [
    "first1 = \"bharti\" \n",
    "\n",
    "sentence = f\"{first1} {last}\"\n",
    "\n",
    "print(sentence)"
   ]
  },
  {
   "cell_type": "code",
   "execution_count": 9,
   "metadata": {},
   "outputs": [
    {
     "name": "stdout",
     "output_type": "stream",
     "text": [
      "shaila atram\n"
     ]
    }
   ],
   "source": [
    "mother = \"shaila\"\n",
    "\n",
    "sentence1 = f\"{mother} {last}\"\n",
    "\n",
    "print(sentence1)"
   ]
  },
  {
   "cell_type": "code",
   "execution_count": 10,
   "metadata": {},
   "outputs": [
    {
     "name": "stdout",
     "output_type": "stream",
     "text": [
      "chandrakant atram\n"
     ]
    }
   ],
   "source": [
    "father = \"chandrakant\"\n",
    "\n",
    "sentence2 = f\"{father} {last}\"\n",
    "\n",
    "print(sentence2)"
   ]
  },
  {
   "cell_type": "code",
   "execution_count": 12,
   "metadata": {},
   "outputs": [
    {
     "name": "stdout",
     "output_type": "stream",
     "text": [
      "Mohit Bharti Shaila Chandrakant Atram\n"
     ]
    }
   ],
   "source": [
    "sentencefull = f\"{first.title()} {first1.title()} {mother.title()} {father.title()} {last.title()}\"\n",
    "\n",
    "print(sentencefull)"
   ]
  }
 ],
 "metadata": {
  "kernelspec": {
   "display_name": "Python 3",
   "language": "python",
   "name": "python3"
  },
  "language_info": {
   "codemirror_mode": {
    "name": "ipython",
    "version": 3
   },
   "file_extension": ".py",
   "mimetype": "text/x-python",
   "name": "python",
   "nbconvert_exporter": "python",
   "pygments_lexer": "ipython3",
   "version": "3.7.6"
  }
 },
 "nbformat": 4,
 "nbformat_minor": 4
}
